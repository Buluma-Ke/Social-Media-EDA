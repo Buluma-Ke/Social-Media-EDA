{
 "cells": [
  {
   "cell_type": "markdown",
   "metadata": {},
   "source": [
    "### **Introduction**\n",
    "Humans are social beings and social media has grown to be a big part of that, It has become a staple at this point; From  making friends, to finding love, from the early days of facebook to making money as influencers on instagram or tiktok, or shaping our politacal landscape on twitter. It is an understatement to say that social media is a big part of our lives today. From a business' perspective social media can be the perfect tool for reaching your customers, be it marketing your product, announcing a new product or engaging with youor customers at a  personal level, It is a no brainer that socialmedia is the way to go. However, it is important to understand this big world of social media.\n",
    "\n",
    "---\n",
    "\n",
    "### **Purpose of the Analysis**\n",
    "The purpose of this analysis is to dive into the  world of social media usage, Idenify trends and patterns within the socail landscape. This in a social media marketing scope can therefore be helpfull in order to undersand what, when and where to post in order to fully engage with your audience. Specific objectives include;\n",
    "-What people spend most time on\n",
    "-where people post the most\n",
    "-Where people engage with the most\n",
    "-Find out if the relation(if any) between Time spent on socials, posts per day, likes per day and follows per day\n",
    "\n",
    "---\n",
    "\n",
    "### **Dataset Overview**\n",
    "\n",
    "It's a relatively small dataset with 1000 entries and 6 columns:\n",
    "\n",
    "| **Column Name**           | **Description**                                                      |\n",
    "|---------------------------|----------------------------------------------------------------------|\n",
    "| **User_ID**               | Unique identifier that denotes the user                              |\n",
    "| **App**                   | Popular social media sites used on a daily basis                     |\n",
    "| **Daily_Minutes_Spent**   | Time spent on the app per day (cumulatively)                         |\n",
    "| **Posts_Per_Day**         | Number of posts uploaded each day                                    |\n",
    "| **Likes_Per_Day**         | Number of likes acquired on posts each day                           |\n",
    "| **Follows_Per_Day**       | Number of followers gained each day                                  |"
   ]
  },
  {
   "cell_type": "markdown",
   "metadata": {},
   "source": [
    "**Import necessary libraries**"
   ]
  },
  {
   "cell_type": "code",
   "execution_count": 2,
   "metadata": {},
   "outputs": [],
   "source": [
    "import pandas as pd\n",
    "import numpy as np \n",
    "import matplotlib.pyplot as plt\n",
    "import seaborn as sns\n",
    "\n",
    "%matplotlib inline"
   ]
  },
  {
   "cell_type": "markdown",
   "metadata": {},
   "source": [
    "# **Data overview**"
   ]
  },
  {
   "cell_type": "code",
   "execution_count": 3,
   "metadata": {},
   "outputs": [
    {
     "data": {
      "text/html": [
       "<div>\n",
       "<style scoped>\n",
       "    .dataframe tbody tr th:only-of-type {\n",
       "        vertical-align: middle;\n",
       "    }\n",
       "\n",
       "    .dataframe tbody tr th {\n",
       "        vertical-align: top;\n",
       "    }\n",
       "\n",
       "    .dataframe thead th {\n",
       "        text-align: right;\n",
       "    }\n",
       "</style>\n",
       "<table border=\"1\" class=\"dataframe\">\n",
       "  <thead>\n",
       "    <tr style=\"text-align: right;\">\n",
       "      <th></th>\n",
       "      <th>User_ID</th>\n",
       "      <th>App</th>\n",
       "      <th>Daily_Minutes_Spent</th>\n",
       "      <th>Posts_Per_Day</th>\n",
       "      <th>Likes_Per_Day</th>\n",
       "      <th>Follows_Per_Day</th>\n",
       "    </tr>\n",
       "  </thead>\n",
       "  <tbody>\n",
       "    <tr>\n",
       "      <th>0</th>\n",
       "      <td>U_1</td>\n",
       "      <td>Pinterest</td>\n",
       "      <td>288</td>\n",
       "      <td>16</td>\n",
       "      <td>94</td>\n",
       "      <td>0</td>\n",
       "    </tr>\n",
       "    <tr>\n",
       "      <th>1</th>\n",
       "      <td>U_2</td>\n",
       "      <td>Facebook</td>\n",
       "      <td>192</td>\n",
       "      <td>14</td>\n",
       "      <td>117</td>\n",
       "      <td>15</td>\n",
       "    </tr>\n",
       "    <tr>\n",
       "      <th>2</th>\n",
       "      <td>U_3</td>\n",
       "      <td>Instagram</td>\n",
       "      <td>351</td>\n",
       "      <td>13</td>\n",
       "      <td>120</td>\n",
       "      <td>48</td>\n",
       "    </tr>\n",
       "    <tr>\n",
       "      <th>3</th>\n",
       "      <td>U_4</td>\n",
       "      <td>TikTok</td>\n",
       "      <td>21</td>\n",
       "      <td>20</td>\n",
       "      <td>117</td>\n",
       "      <td>8</td>\n",
       "    </tr>\n",
       "    <tr>\n",
       "      <th>4</th>\n",
       "      <td>U_5</td>\n",
       "      <td>LinkedIn</td>\n",
       "      <td>241</td>\n",
       "      <td>16</td>\n",
       "      <td>9</td>\n",
       "      <td>21</td>\n",
       "    </tr>\n",
       "    <tr>\n",
       "      <th>5</th>\n",
       "      <td>U_6</td>\n",
       "      <td>Twitter</td>\n",
       "      <td>464</td>\n",
       "      <td>3</td>\n",
       "      <td>137</td>\n",
       "      <td>30</td>\n",
       "    </tr>\n",
       "    <tr>\n",
       "      <th>6</th>\n",
       "      <td>U_7</td>\n",
       "      <td>LinkedIn</td>\n",
       "      <td>229</td>\n",
       "      <td>1</td>\n",
       "      <td>188</td>\n",
       "      <td>25</td>\n",
       "    </tr>\n",
       "    <tr>\n",
       "      <th>7</th>\n",
       "      <td>U_8</td>\n",
       "      <td>LinkedIn</td>\n",
       "      <td>8</td>\n",
       "      <td>19</td>\n",
       "      <td>179</td>\n",
       "      <td>48</td>\n",
       "    </tr>\n",
       "    <tr>\n",
       "      <th>8</th>\n",
       "      <td>U_9</td>\n",
       "      <td>TikTok</td>\n",
       "      <td>80</td>\n",
       "      <td>7</td>\n",
       "      <td>14</td>\n",
       "      <td>25</td>\n",
       "    </tr>\n",
       "    <tr>\n",
       "      <th>9</th>\n",
       "      <td>U_10</td>\n",
       "      <td>Snapchat</td>\n",
       "      <td>428</td>\n",
       "      <td>6</td>\n",
       "      <td>4</td>\n",
       "      <td>41</td>\n",
       "    </tr>\n",
       "  </tbody>\n",
       "</table>\n",
       "</div>"
      ],
      "text/plain": [
       "  User_ID        App  Daily_Minutes_Spent  Posts_Per_Day  Likes_Per_Day  \\\n",
       "0     U_1  Pinterest                  288             16             94   \n",
       "1     U_2   Facebook                  192             14            117   \n",
       "2     U_3  Instagram                  351             13            120   \n",
       "3     U_4     TikTok                   21             20            117   \n",
       "4     U_5   LinkedIn                  241             16              9   \n",
       "5     U_6    Twitter                  464              3            137   \n",
       "6     U_7   LinkedIn                  229              1            188   \n",
       "7     U_8   LinkedIn                    8             19            179   \n",
       "8     U_9     TikTok                   80              7             14   \n",
       "9    U_10   Snapchat                  428              6              4   \n",
       "\n",
       "   Follows_Per_Day  \n",
       "0                0  \n",
       "1               15  \n",
       "2               48  \n",
       "3                8  \n",
       "4               21  \n",
       "5               30  \n",
       "6               25  \n",
       "7               48  \n",
       "8               25  \n",
       "9               41  "
      ]
     },
     "execution_count": 3,
     "metadata": {},
     "output_type": "execute_result"
    }
   ],
   "source": [
    "\n",
    "df =  pd.read_csv('social_media_usage.csv')\n",
    "df.head(10)"
   ]
  },
  {
   "cell_type": "code",
   "execution_count": 4,
   "metadata": {},
   "outputs": [
    {
     "data": {
      "text/html": [
       "<div>\n",
       "<style scoped>\n",
       "    .dataframe tbody tr th:only-of-type {\n",
       "        vertical-align: middle;\n",
       "    }\n",
       "\n",
       "    .dataframe tbody tr th {\n",
       "        vertical-align: top;\n",
       "    }\n",
       "\n",
       "    .dataframe thead th {\n",
       "        text-align: right;\n",
       "    }\n",
       "</style>\n",
       "<table border=\"1\" class=\"dataframe\">\n",
       "  <thead>\n",
       "    <tr style=\"text-align: right;\">\n",
       "      <th></th>\n",
       "      <th>User_ID</th>\n",
       "      <th>App</th>\n",
       "      <th>Daily_Minutes_Spent</th>\n",
       "      <th>Posts_Per_Day</th>\n",
       "      <th>Likes_Per_Day</th>\n",
       "      <th>Follows_Per_Day</th>\n",
       "    </tr>\n",
       "  </thead>\n",
       "  <tbody>\n",
       "    <tr>\n",
       "      <th>198</th>\n",
       "      <td>U_199</td>\n",
       "      <td>LinkedIn</td>\n",
       "      <td>27</td>\n",
       "      <td>6</td>\n",
       "      <td>77</td>\n",
       "      <td>26</td>\n",
       "    </tr>\n",
       "    <tr>\n",
       "      <th>293</th>\n",
       "      <td>U_294</td>\n",
       "      <td>Twitter</td>\n",
       "      <td>269</td>\n",
       "      <td>10</td>\n",
       "      <td>121</td>\n",
       "      <td>14</td>\n",
       "    </tr>\n",
       "    <tr>\n",
       "      <th>63</th>\n",
       "      <td>U_64</td>\n",
       "      <td>Pinterest</td>\n",
       "      <td>341</td>\n",
       "      <td>13</td>\n",
       "      <td>4</td>\n",
       "      <td>41</td>\n",
       "    </tr>\n",
       "    <tr>\n",
       "      <th>455</th>\n",
       "      <td>U_456</td>\n",
       "      <td>Pinterest</td>\n",
       "      <td>225</td>\n",
       "      <td>11</td>\n",
       "      <td>100</td>\n",
       "      <td>24</td>\n",
       "    </tr>\n",
       "    <tr>\n",
       "      <th>327</th>\n",
       "      <td>U_328</td>\n",
       "      <td>Facebook</td>\n",
       "      <td>415</td>\n",
       "      <td>0</td>\n",
       "      <td>184</td>\n",
       "      <td>17</td>\n",
       "    </tr>\n",
       "    <tr>\n",
       "      <th>236</th>\n",
       "      <td>U_237</td>\n",
       "      <td>Snapchat</td>\n",
       "      <td>336</td>\n",
       "      <td>8</td>\n",
       "      <td>167</td>\n",
       "      <td>40</td>\n",
       "    </tr>\n",
       "    <tr>\n",
       "      <th>494</th>\n",
       "      <td>U_495</td>\n",
       "      <td>Snapchat</td>\n",
       "      <td>468</td>\n",
       "      <td>8</td>\n",
       "      <td>193</td>\n",
       "      <td>33</td>\n",
       "    </tr>\n",
       "    <tr>\n",
       "      <th>323</th>\n",
       "      <td>U_324</td>\n",
       "      <td>Twitter</td>\n",
       "      <td>92</td>\n",
       "      <td>7</td>\n",
       "      <td>150</td>\n",
       "      <td>32</td>\n",
       "    </tr>\n",
       "    <tr>\n",
       "      <th>435</th>\n",
       "      <td>U_436</td>\n",
       "      <td>Instagram</td>\n",
       "      <td>487</td>\n",
       "      <td>20</td>\n",
       "      <td>63</td>\n",
       "      <td>21</td>\n",
       "    </tr>\n",
       "    <tr>\n",
       "      <th>699</th>\n",
       "      <td>U_700</td>\n",
       "      <td>TikTok</td>\n",
       "      <td>281</td>\n",
       "      <td>8</td>\n",
       "      <td>43</td>\n",
       "      <td>17</td>\n",
       "    </tr>\n",
       "  </tbody>\n",
       "</table>\n",
       "</div>"
      ],
      "text/plain": [
       "    User_ID        App  Daily_Minutes_Spent  Posts_Per_Day  Likes_Per_Day  \\\n",
       "198   U_199   LinkedIn                   27              6             77   \n",
       "293   U_294    Twitter                  269             10            121   \n",
       "63     U_64  Pinterest                  341             13              4   \n",
       "455   U_456  Pinterest                  225             11            100   \n",
       "327   U_328   Facebook                  415              0            184   \n",
       "236   U_237   Snapchat                  336              8            167   \n",
       "494   U_495   Snapchat                  468              8            193   \n",
       "323   U_324    Twitter                   92              7            150   \n",
       "435   U_436  Instagram                  487             20             63   \n",
       "699   U_700     TikTok                  281              8             43   \n",
       "\n",
       "     Follows_Per_Day  \n",
       "198               26  \n",
       "293               14  \n",
       "63                41  \n",
       "455               24  \n",
       "327               17  \n",
       "236               40  \n",
       "494               33  \n",
       "323               32  \n",
       "435               21  \n",
       "699               17  "
      ]
     },
     "execution_count": 4,
     "metadata": {},
     "output_type": "execute_result"
    }
   ],
   "source": [
    "df.sample(10)"
   ]
  },
  {
   "cell_type": "markdown",
   "metadata": {},
   "source": [
    "**check the shape of the DataFrame**"
   ]
  },
  {
   "cell_type": "code",
   "execution_count": 5,
   "metadata": {},
   "outputs": [
    {
     "data": {
      "text/plain": [
       "(1000, 6)"
      ]
     },
     "execution_count": 5,
     "metadata": {},
     "output_type": "execute_result"
    }
   ],
   "source": [
    "df.shape"
   ]
  },
  {
   "cell_type": "markdown",
   "metadata": {},
   "source": [
    "**general summary of the data**"
   ]
  },
  {
   "cell_type": "code",
   "execution_count": 6,
   "metadata": {},
   "outputs": [
    {
     "name": "stdout",
     "output_type": "stream",
     "text": [
      "<class 'pandas.core.frame.DataFrame'>\n",
      "RangeIndex: 1000 entries, 0 to 999\n",
      "Data columns (total 6 columns):\n",
      " #   Column               Non-Null Count  Dtype \n",
      "---  ------               --------------  ----- \n",
      " 0   User_ID              1000 non-null   object\n",
      " 1   App                  1000 non-null   object\n",
      " 2   Daily_Minutes_Spent  1000 non-null   int64 \n",
      " 3   Posts_Per_Day        1000 non-null   int64 \n",
      " 4   Likes_Per_Day        1000 non-null   int64 \n",
      " 5   Follows_Per_Day      1000 non-null   int64 \n",
      "dtypes: int64(4), object(2)\n",
      "memory usage: 47.0+ KB\n"
     ]
    }
   ],
   "source": [
    "df.info()"
   ]
  },
  {
   "cell_type": "markdown",
   "metadata": {},
   "source": [
    "**statistical summary of the data**"
   ]
  },
  {
   "cell_type": "code",
   "execution_count": 7,
   "metadata": {},
   "outputs": [
    {
     "data": {
      "text/html": [
       "<div>\n",
       "<style scoped>\n",
       "    .dataframe tbody tr th:only-of-type {\n",
       "        vertical-align: middle;\n",
       "    }\n",
       "\n",
       "    .dataframe tbody tr th {\n",
       "        vertical-align: top;\n",
       "    }\n",
       "\n",
       "    .dataframe thead th {\n",
       "        text-align: right;\n",
       "    }\n",
       "</style>\n",
       "<table border=\"1\" class=\"dataframe\">\n",
       "  <thead>\n",
       "    <tr style=\"text-align: right;\">\n",
       "      <th></th>\n",
       "      <th>Daily_Minutes_Spent</th>\n",
       "      <th>Posts_Per_Day</th>\n",
       "      <th>Likes_Per_Day</th>\n",
       "      <th>Follows_Per_Day</th>\n",
       "    </tr>\n",
       "  </thead>\n",
       "  <tbody>\n",
       "    <tr>\n",
       "      <th>count</th>\n",
       "      <td>1000.000000</td>\n",
       "      <td>1000.000000</td>\n",
       "      <td>1000.000000</td>\n",
       "      <td>1000.000000</td>\n",
       "    </tr>\n",
       "    <tr>\n",
       "      <th>mean</th>\n",
       "      <td>247.368000</td>\n",
       "      <td>10.269000</td>\n",
       "      <td>94.682000</td>\n",
       "      <td>24.698000</td>\n",
       "    </tr>\n",
       "    <tr>\n",
       "      <th>std</th>\n",
       "      <td>146.371921</td>\n",
       "      <td>6.121774</td>\n",
       "      <td>57.560943</td>\n",
       "      <td>14.842948</td>\n",
       "    </tr>\n",
       "    <tr>\n",
       "      <th>min</th>\n",
       "      <td>5.000000</td>\n",
       "      <td>0.000000</td>\n",
       "      <td>0.000000</td>\n",
       "      <td>0.000000</td>\n",
       "    </tr>\n",
       "    <tr>\n",
       "      <th>25%</th>\n",
       "      <td>112.750000</td>\n",
       "      <td>5.000000</td>\n",
       "      <td>44.750000</td>\n",
       "      <td>12.000000</td>\n",
       "    </tr>\n",
       "    <tr>\n",
       "      <th>50%</th>\n",
       "      <td>246.000000</td>\n",
       "      <td>10.000000</td>\n",
       "      <td>94.000000</td>\n",
       "      <td>24.000000</td>\n",
       "    </tr>\n",
       "    <tr>\n",
       "      <th>75%</th>\n",
       "      <td>380.500000</td>\n",
       "      <td>16.000000</td>\n",
       "      <td>142.000000</td>\n",
       "      <td>38.000000</td>\n",
       "    </tr>\n",
       "    <tr>\n",
       "      <th>max</th>\n",
       "      <td>500.000000</td>\n",
       "      <td>20.000000</td>\n",
       "      <td>200.000000</td>\n",
       "      <td>50.000000</td>\n",
       "    </tr>\n",
       "  </tbody>\n",
       "</table>\n",
       "</div>"
      ],
      "text/plain": [
       "       Daily_Minutes_Spent  Posts_Per_Day  Likes_Per_Day  Follows_Per_Day\n",
       "count          1000.000000    1000.000000    1000.000000      1000.000000\n",
       "mean            247.368000      10.269000      94.682000        24.698000\n",
       "std             146.371921       6.121774      57.560943        14.842948\n",
       "min               5.000000       0.000000       0.000000         0.000000\n",
       "25%             112.750000       5.000000      44.750000        12.000000\n",
       "50%             246.000000      10.000000      94.000000        24.000000\n",
       "75%             380.500000      16.000000     142.000000        38.000000\n",
       "max             500.000000      20.000000     200.000000        50.000000"
      ]
     },
     "execution_count": 7,
     "metadata": {},
     "output_type": "execute_result"
    }
   ],
   "source": [
    "df.describe()"
   ]
  },
  {
   "cell_type": "markdown",
   "metadata": {},
   "source": [
    "# **Data Cleaning**\n",
    "_its a generally clean dataset, however it is necessary to do an overview before any major analysis is done_"
   ]
  },
  {
   "cell_type": "code",
   "execution_count": 8,
   "metadata": {},
   "outputs": [
    {
     "data": {
      "text/plain": [
       "User_ID                0\n",
       "App                    0\n",
       "Daily_Minutes_Spent    0\n",
       "Posts_Per_Day          0\n",
       "Likes_Per_Day          0\n",
       "Follows_Per_Day        0\n",
       "dtype: int64"
      ]
     },
     "execution_count": 8,
     "metadata": {},
     "output_type": "execute_result"
    }
   ],
   "source": [
    "df.isnull().sum() # check for null values"
   ]
  },
  {
   "cell_type": "code",
   "execution_count": 9,
   "metadata": {},
   "outputs": [
    {
     "data": {
      "text/plain": [
       "User_ID                object\n",
       "App                    object\n",
       "Daily_Minutes_Spent     int64\n",
       "Posts_Per_Day           int64\n",
       "Likes_Per_Day           int64\n",
       "Follows_Per_Day         int64\n",
       "dtype: object"
      ]
     },
     "execution_count": 9,
     "metadata": {},
     "output_type": "execute_result"
    }
   ],
   "source": [
    "df.dtypes"
   ]
  },
  {
   "cell_type": "markdown",
   "metadata": {},
   "source": [
    "**check for duplicates**"
   ]
  },
  {
   "cell_type": "code",
   "execution_count": 10,
   "metadata": {},
   "outputs": [
    {
     "data": {
      "text/plain": [
       "np.int64(0)"
      ]
     },
     "execution_count": 10,
     "metadata": {},
     "output_type": "execute_result"
    }
   ],
   "source": [
    "df.duplicated().sum()"
   ]
  },
  {
   "cell_type": "markdown",
   "metadata": {},
   "source": [
    "# **General Analysis**"
   ]
  },
  {
   "cell_type": "code",
   "execution_count": 11,
   "metadata": {},
   "outputs": [
    {
     "data": {
      "text/html": [
       "<div>\n",
       "<style scoped>\n",
       "    .dataframe tbody tr th:only-of-type {\n",
       "        vertical-align: middle;\n",
       "    }\n",
       "\n",
       "    .dataframe tbody tr th {\n",
       "        vertical-align: top;\n",
       "    }\n",
       "\n",
       "    .dataframe thead th {\n",
       "        text-align: right;\n",
       "    }\n",
       "</style>\n",
       "<table border=\"1\" class=\"dataframe\">\n",
       "  <thead>\n",
       "    <tr style=\"text-align: right;\">\n",
       "      <th></th>\n",
       "      <th>User_ID</th>\n",
       "      <th>App</th>\n",
       "      <th>Daily_Minutes_Spent</th>\n",
       "      <th>Posts_Per_Day</th>\n",
       "      <th>Likes_Per_Day</th>\n",
       "      <th>Follows_Per_Day</th>\n",
       "    </tr>\n",
       "  </thead>\n",
       "  <tbody>\n",
       "    <tr>\n",
       "      <th>0</th>\n",
       "      <td>U_1</td>\n",
       "      <td>Pinterest</td>\n",
       "      <td>288</td>\n",
       "      <td>16</td>\n",
       "      <td>94</td>\n",
       "      <td>0</td>\n",
       "    </tr>\n",
       "    <tr>\n",
       "      <th>1</th>\n",
       "      <td>U_2</td>\n",
       "      <td>Facebook</td>\n",
       "      <td>192</td>\n",
       "      <td>14</td>\n",
       "      <td>117</td>\n",
       "      <td>15</td>\n",
       "    </tr>\n",
       "    <tr>\n",
       "      <th>2</th>\n",
       "      <td>U_3</td>\n",
       "      <td>Instagram</td>\n",
       "      <td>351</td>\n",
       "      <td>13</td>\n",
       "      <td>120</td>\n",
       "      <td>48</td>\n",
       "    </tr>\n",
       "    <tr>\n",
       "      <th>3</th>\n",
       "      <td>U_4</td>\n",
       "      <td>TikTok</td>\n",
       "      <td>21</td>\n",
       "      <td>20</td>\n",
       "      <td>117</td>\n",
       "      <td>8</td>\n",
       "    </tr>\n",
       "    <tr>\n",
       "      <th>4</th>\n",
       "      <td>U_5</td>\n",
       "      <td>LinkedIn</td>\n",
       "      <td>241</td>\n",
       "      <td>16</td>\n",
       "      <td>9</td>\n",
       "      <td>21</td>\n",
       "    </tr>\n",
       "  </tbody>\n",
       "</table>\n",
       "</div>"
      ],
      "text/plain": [
       "  User_ID        App  Daily_Minutes_Spent  Posts_Per_Day  Likes_Per_Day  \\\n",
       "0     U_1  Pinterest                  288             16             94   \n",
       "1     U_2   Facebook                  192             14            117   \n",
       "2     U_3  Instagram                  351             13            120   \n",
       "3     U_4     TikTok                   21             20            117   \n",
       "4     U_5   LinkedIn                  241             16              9   \n",
       "\n",
       "   Follows_Per_Day  \n",
       "0                0  \n",
       "1               15  \n",
       "2               48  \n",
       "3                8  \n",
       "4               21  "
      ]
     },
     "execution_count": 11,
     "metadata": {},
     "output_type": "execute_result"
    }
   ],
   "source": [
    "df.head()"
   ]
  },
  {
   "cell_type": "markdown",
   "metadata": {},
   "source": [
    "**App by users**"
   ]
  },
  {
   "cell_type": "code",
   "execution_count": 12,
   "metadata": {},
   "outputs": [
    {
     "name": "stdout",
     "output_type": "stream",
     "text": [
      "App\n",
      "Snapchat     156\n",
      "LinkedIn     147\n",
      "TikTok       141\n",
      "Pinterest    140\n",
      "Instagram    140\n",
      "Twitter      140\n",
      "Facebook     136\n",
      "Name: count, dtype: int64\n"
     ]
    },
    {
     "data": {
      "image/png": "[encoded data removed]",
      "text/plain": [
       "<Figure size 800x500 with 1 Axes>"
      ]
     },
     "metadata": {},
     "output_type": "display_data"
    }
   ],
   "source": [
    "# apps according to the number of  users within our sample\n",
    "data = df.App.value_counts()\n",
    "print(data)\n",
    "\n",
    "plt.figure(figsize=(8, 5))\n",
    "sns.barplot(data=data, width=0.5)\n",
    "plt.ylabel(\"users\")\n",
    "plt.show()"
   ]
  },
  {
   "cell_type": "markdown",
   "metadata": {},
   "source": [
    "**Total time spent on each app**"
   ]
  },
  {
   "cell_type": "code",
   "execution_count": 13,
   "metadata": {},
   "outputs": [
    {
     "name": "stdout",
     "output_type": "stream",
     "text": [
      "App\n",
      "TikTok       32912\n",
      "Pinterest    33069\n",
      "Facebook     33615\n",
      "LinkedIn     34700\n",
      "Twitter      36076\n",
      "Instagram    36974\n",
      "Snapchat     40022\n",
      "Name: Daily_Minutes_Spent, dtype: int64\n"
     ]
    },
    {
     "data": {
      "image/png": "[encoded data removed]",
      "text/plain": [
       "<Figure size 800x500 with 1 Axes>"
      ]
     },
     "metadata": {},
     "output_type": "display_data"
    }
   ],
   "source": [
    "data = df.groupby('App')['Daily_Minutes_Spent'].sum().sort_values(ascending=True)\n",
    "print(data)\n",
    "\n",
    "plt.figure(figsize=(8, 5))\n",
    "sns.barplot(data=data, width=0.5)\n",
    "plt.ylabel(\"Time(Minutes)\")\n",
    "plt.show()"
   ]
  },
  {
   "cell_type": "markdown",
   "metadata": {},
   "source": [
    "**Maximum time any user has spent on the app**"
   ]
  },
  {
   "cell_type": "code",
   "execution_count": 23,
   "metadata": {},
   "outputs": [
    {
     "data": {
      "text/plain": [
       "App\n",
       "Pinterest    500\n",
       "Instagram    499\n",
       "Facebook     498\n",
       "TikTok       498\n",
       "LinkedIn     495\n",
       "Twitter      494\n",
       "Snapchat     492\n",
       "Name: Daily_Minutes_Spent, dtype: int64"
      ]
     },
     "execution_count": 23,
     "metadata": {},
     "output_type": "execute_result"
    }
   ],
   "source": [
    "df.groupby('App')['Daily_Minutes_Spent'].max().sort_values(ascending=False)"
   ]
  },
  {
   "cell_type": "markdown",
   "metadata": {},
   "source": [
    "**Total daily posts on each app**"
   ]
  },
  {
   "cell_type": "code",
   "execution_count": 14,
   "metadata": {},
   "outputs": [
    {
     "name": "stdout",
     "output_type": "stream",
     "text": [
      "App\n",
      "Facebook     1295\n",
      "TikTok       1348\n",
      "Pinterest    1488\n",
      "LinkedIn     1496\n",
      "Twitter      1496\n",
      "Snapchat     1560\n",
      "Instagram    1586\n",
      "Name: Posts_Per_Day, dtype: int64\n"
     ]
    },
    {
     "data": {
      "image/png": "[encoded data removed]",
      "text/plain": [
       "<Figure size 800x500 with 1 Axes>"
      ]
     },
     "metadata": {},
     "output_type": "display_data"
    }
   ],
   "source": [
    "data = df.groupby('App')['Posts_Per_Day'].sum().sort_values(ascending=True)\n",
    "print(data)\n",
    "\n",
    "plt.figure(figsize=(8, 5))\n",
    "sns.barplot(data=data, width=0.5)\n",
    "plt.ylabel(\"Posts per day\")\n",
    "plt.show()"
   ]
  },
  {
   "cell_type": "markdown",
   "metadata": {},
   "source": [
    "**Maximum posts a user has uploaded**"
   ]
  },
  {
   "cell_type": "code",
   "execution_count": 25,
   "metadata": {},
   "outputs": [
    {
     "data": {
      "text/plain": [
       "App\n",
       "Facebook     20\n",
       "Instagram    20\n",
       "LinkedIn     20\n",
       "Pinterest    20\n",
       "Snapchat     20\n",
       "TikTok       20\n",
       "Twitter      20\n",
       "Name: Posts_Per_Day, dtype: int64"
      ]
     },
     "execution_count": 25,
     "metadata": {},
     "output_type": "execute_result"
    }
   ],
   "source": [
    "df.groupby('App')['Posts_Per_Day'].max().sort_values(ascending=True)"
   ]
  },
  {
   "cell_type": "markdown",
   "metadata": {},
   "source": [
    "**Total daily likes on each app**\n",
    "\n",
    "*_engagements measure_"
   ]
  },
  {
   "cell_type": "code",
   "execution_count": 29,
   "metadata": {},
   "outputs": [
    {
     "name": "stdout",
     "output_type": "stream",
     "text": [
      "App\n",
      "Twitter      12626\n",
      "TikTok       12889\n",
      "Pinterest    12896\n",
      "Facebook     13505\n",
      "Instagram    13859\n",
      "LinkedIn     14271\n",
      "Snapchat     14636\n",
      "Name: Likes_Per_Day, dtype: int64\n"
     ]
    },
    {
     "data": {
      "image/png": "[encoded data removed]",
      "text/plain": [
       "<Figure size 800x500 with 1 Axes>"
      ]
     },
     "metadata": {},
     "output_type": "display_data"
    }
   ],
   "source": [
    "data=df.groupby('App')['Likes_Per_Day'].sum().sort_values(ascending=True)\n",
    "print(data)\n",
    "\n",
    "# Seaborn minimalist style\n",
    "\n",
    "plt.figure(figsize=(8, 5))\n",
    "sns.barplot(data=data, width=0.5)\n",
    "plt.ylabel(\"Likes\")\n",
    "plt.show()"
   ]
  },
  {
   "cell_type": "markdown",
   "metadata": {},
   "source": [
    "**Maximum likes a user has gotten on a post**"
   ]
  },
  {
   "cell_type": "code",
   "execution_count": 34,
   "metadata": {},
   "outputs": [
    {
     "data": {
      "text/plain": [
       "App\n",
       "Snapchat     200\n",
       "Twitter      200\n",
       "Facebook     199\n",
       "TikTok       199\n",
       "Instagram    198\n",
       "LinkedIn     198\n",
       "Pinterest    195\n",
       "Name: Likes_Per_Day, dtype: int64"
      ]
     },
     "execution_count": 34,
     "metadata": {},
     "output_type": "execute_result"
    }
   ],
   "source": [
    "df.groupby('App')['Likes_Per_Day'].max().sort_values(ascending=False)"
   ]
  },
  {
   "cell_type": "markdown",
   "metadata": {},
   "source": [
    "**Total daily Follows on each app**"
   ]
  },
  {
   "cell_type": "code",
   "execution_count": 30,
   "metadata": {},
   "outputs": [
    {
     "name": "stdout",
     "output_type": "stream",
     "text": [
      "App\n",
      "Facebook     3144\n",
      "Twitter      3350\n",
      "TikTok       3446\n",
      "Pinterest    3471\n",
      "Instagram    3621\n",
      "LinkedIn     3687\n",
      "Snapchat     3979\n",
      "Name: Follows_Per_Day, dtype: int64\n"
     ]
    },
    {
     "data": {
      "image/png": "[encoded data removed]",
      "text/plain": [
       "<Figure size 800x500 with 1 Axes>"
      ]
     },
     "metadata": {},
     "output_type": "display_data"
    }
   ],
   "source": [
    "data=df.groupby('App')['Follows_Per_Day'].sum().sort_values(ascending=True)\n",
    "print(data)\n",
    "\n",
    "# Seaborn minimalist style\n",
    "\n",
    "plt.figure(figsize=(8, 5))\n",
    "sns.barplot(data=data, width=0.5)\n",
    "plt.ylabel(\"Follows\")\n",
    "plt.show()\n",
    "\n"
   ]
  },
  {
   "cell_type": "markdown",
   "metadata": {},
   "source": [
    "**Maximum Followers a user has gained in a day**"
   ]
  },
  {
   "cell_type": "code",
   "execution_count": 36,
   "metadata": {},
   "outputs": [
    {
     "data": {
      "text/plain": [
       "App\n",
       "Facebook     50\n",
       "Instagram    50\n",
       "LinkedIn     50\n",
       "Pinterest    50\n",
       "Snapchat     50\n",
       "TikTok       50\n",
       "Twitter      49\n",
       "Name: Follows_Per_Day, dtype: int64"
      ]
     },
     "execution_count": 36,
     "metadata": {},
     "output_type": "execute_result"
    }
   ],
   "source": [
    "df.groupby('App')['Follows_Per_Day'].max().sort_values(ascending=False)"
   ]
  },
  {
   "cell_type": "markdown",
   "metadata": {},
   "source": [
    "# **Average User Engagement Analysis**"
   ]
  },
  {
   "cell_type": "markdown",
   "metadata": {},
   "source": [
    "**Average time spent on the app**"
   ]
  },
  {
   "cell_type": "code",
   "execution_count": 17,
   "metadata": {},
   "outputs": [
    {
     "name": "stdout",
     "output_type": "stream",
     "text": [
      "App\n",
      "TikTok       233.418440\n",
      "LinkedIn     236.054422\n",
      "Pinterest    236.207143\n",
      "Facebook     247.169118\n",
      "Snapchat     256.551282\n",
      "Twitter      257.685714\n",
      "Instagram    264.100000\n",
      "Name: Daily_Minutes_Spent, dtype: float64\n"
     ]
    },
    {
     "data": {
      "image/png": "[encoded data removed]",
      "text/plain": [
       "<Figure size 800x500 with 1 Axes>"
      ]
     },
     "metadata": {},
     "output_type": "display_data"
    }
   ],
   "source": [
    "data = df.groupby('App')['Daily_Minutes_Spent'].mean().sort_values(ascending=True)\n",
    "print(data)\n",
    "\n",
    "plt.figure(figsize=(8, 5))\n",
    "sns.barplot(data=data, width=0.5)\n",
    "plt.ylabel(\"Time(Minutes)\")\n",
    "plt.show()"
   ]
  },
  {
   "cell_type": "markdown",
   "metadata": {},
   "source": [
    "**Average Number of posts users put up**"
   ]
  },
  {
   "cell_type": "code",
   "execution_count": 18,
   "metadata": {},
   "outputs": [
    {
     "name": "stdout",
     "output_type": "stream",
     "text": [
      "App\n",
      "Facebook      9.522059\n",
      "TikTok        9.560284\n",
      "Snapchat     10.000000\n",
      "LinkedIn     10.176871\n",
      "Pinterest    10.628571\n",
      "Twitter      10.685714\n",
      "Instagram    11.328571\n",
      "Name: Posts_Per_Day, dtype: float64\n"
     ]
    },
    {
     "data": {
      "image/png": "[encoded data removed]",
      "text/plain": [
       "<Figure size 800x500 with 1 Axes>"
      ]
     },
     "metadata": {},
     "output_type": "display_data"
    }
   ],
   "source": [
    "data = df.groupby('App')['Posts_Per_Day'].mean().sort_values(ascending=True)\n",
    "print(data)\n",
    "\n",
    "plt.figure(figsize=(8, 5))\n",
    "sns.barplot(data=data, width=0.5)\n",
    "plt.ylabel(\"Posts\")\n",
    "plt.show()"
   ]
  },
  {
   "cell_type": "markdown",
   "metadata": {},
   "source": [
    "**Average number of Likes users recieve**"
   ]
  },
  {
   "cell_type": "code",
   "execution_count": 19,
   "metadata": {},
   "outputs": [
    {
     "name": "stdout",
     "output_type": "stream",
     "text": [
      "           Likes_Per_Day\n",
      "App                     \n",
      "Twitter        90.185714\n",
      "TikTok         91.411348\n",
      "Pinterest      92.114286\n",
      "Snapchat       93.820513\n",
      "LinkedIn       97.081633\n",
      "Instagram      98.992857\n",
      "Facebook       99.301471\n"
     ]
    },
    {
     "data": {
      "image/png": "[encoded data removed]",
      "text/plain": [
       "<Figure size 800x500 with 1 Axes>"
      ]
     },
     "metadata": {},
     "output_type": "display_data"
    }
   ],
   "source": [
    "data=df.groupby('App')[['Likes_Per_Day']].mean().sort_values(ascending=True, by='Likes_Per_Day')\n",
    "print(data)\n",
    "\n",
    "\n",
    "plt.figure(figsize=(8, 5))\n",
    "sns.barplot(data=data, y='Likes_Per_Day',x='App',width=0.5)\n",
    "plt.ylabel(\"Likes\")\n",
    "plt.show()"
   ]
  },
  {
   "cell_type": "markdown",
   "metadata": {},
   "source": [
    "**Average number of followers users gain on apps**"
   ]
  },
  {
   "cell_type": "code",
   "execution_count": 20,
   "metadata": {},
   "outputs": [
    {
     "name": "stdout",
     "output_type": "stream",
     "text": [
      "           Follows_Per_Day\n",
      "App                       \n",
      "Facebook              3144\n",
      "Twitter               3350\n",
      "TikTok                3446\n",
      "Pinterest             3471\n",
      "Instagram             3621\n",
      "LinkedIn              3687\n",
      "Snapchat              3979\n"
     ]
    },
    {
     "data": {
      "image/png": "[encoded data removed]",
      "text/plain": [
       "<Figure size 800x500 with 1 Axes>"
      ]
     },
     "metadata": {},
     "output_type": "display_data"
    }
   ],
   "source": [
    "data=df.groupby('App')[['Follows_Per_Day']].sum().sort_values(ascending=True, by='Follows_Per_Day')\n",
    "print(data)\n",
    "\n",
    "plt.figure(figsize=(8, 5))\n",
    "sns.barplot(data=data, y='Follows_Per_Day',x='App',width=0.5)\n",
    "plt.ylabel(\"Followers\")\n",
    "plt.show()"
   ]
  },
  {
   "cell_type": "markdown",
   "metadata": {},
   "source": [
    "# **Relations Analysis**\n",
    "\n",
    "** bubb**"
   ]
  },
  {
   "cell_type": "code",
   "execution_count": 44,
   "metadata": {},
   "outputs": [
    {
     "data": {
      "text/html": [
       "<div>\n",
       "<style scoped>\n",
       "    .dataframe tbody tr th:only-of-type {\n",
       "        vertical-align: middle;\n",
       "    }\n",
       "\n",
       "    .dataframe tbody tr th {\n",
       "        vertical-align: top;\n",
       "    }\n",
       "\n",
       "    .dataframe thead th {\n",
       "        text-align: right;\n",
       "    }\n",
       "</style>\n",
       "<table border=\"1\" class=\"dataframe\">\n",
       "  <thead>\n",
       "    <tr style=\"text-align: right;\">\n",
       "      <th></th>\n",
       "      <th>Daily_Minutes_Spent</th>\n",
       "      <th>Posts_Per_Day</th>\n",
       "      <th>Likes_Per_Day</th>\n",
       "      <th>Follows_Per_Day</th>\n",
       "    </tr>\n",
       "  </thead>\n",
       "  <tbody>\n",
       "    <tr>\n",
       "      <th>Daily_Minutes_Spent</th>\n",
       "      <td>1.000000</td>\n",
       "      <td>-0.023968</td>\n",
       "      <td>0.013545</td>\n",
       "      <td>0.037521</td>\n",
       "    </tr>\n",
       "    <tr>\n",
       "      <th>Posts_Per_Day</th>\n",
       "      <td>-0.023968</td>\n",
       "      <td>1.000000</td>\n",
       "      <td>0.016892</td>\n",
       "      <td>0.018113</td>\n",
       "    </tr>\n",
       "    <tr>\n",
       "      <th>Likes_Per_Day</th>\n",
       "      <td>0.013545</td>\n",
       "      <td>0.016892</td>\n",
       "      <td>1.000000</td>\n",
       "      <td>-0.017476</td>\n",
       "    </tr>\n",
       "    <tr>\n",
       "      <th>Follows_Per_Day</th>\n",
       "      <td>0.037521</td>\n",
       "      <td>0.018113</td>\n",
       "      <td>-0.017476</td>\n",
       "      <td>1.000000</td>\n",
       "    </tr>\n",
       "  </tbody>\n",
       "</table>\n",
       "</div>"
      ],
      "text/plain": [
       "                     Daily_Minutes_Spent  Posts_Per_Day  Likes_Per_Day  \\\n",
       "Daily_Minutes_Spent             1.000000      -0.023968       0.013545   \n",
       "Posts_Per_Day                  -0.023968       1.000000       0.016892   \n",
       "Likes_Per_Day                   0.013545       0.016892       1.000000   \n",
       "Follows_Per_Day                 0.037521       0.018113      -0.017476   \n",
       "\n",
       "                     Follows_Per_Day  \n",
       "Daily_Minutes_Spent         0.037521  \n",
       "Posts_Per_Day               0.018113  \n",
       "Likes_Per_Day              -0.017476  \n",
       "Follows_Per_Day             1.000000  "
      ]
     },
     "execution_count": 44,
     "metadata": {},
     "output_type": "execute_result"
    }
   ],
   "source": [
    "df.iloc[:, 2:].corr()"
   ]
  }
 ],
 "metadata": {
  "kernelspec": {
   "display_name": "Python 3",
   "language": "python",
   "name": "python3"
  },
  "language_info": {
   "codemirror_mode": {
    "name": "ipython",
    "version": 3
   },
   "file_extension": ".py",
   "mimetype": "text/x-python",
   "name": "python",
   "nbconvert_exporter": "python",
   "pygments_lexer": "ipython3",
   "version": "3.10.12"
  }
 },
 "nbformat": 4,
 "nbformat_minor": 2
}
